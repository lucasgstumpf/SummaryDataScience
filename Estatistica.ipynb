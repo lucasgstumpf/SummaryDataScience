{
 "cells": [
  {
   "attachments": {},
   "cell_type": "markdown",
   "metadata": {},
   "source": [
    "\n",
    "# Estatistica 1"
   ]
  },
  {
   "attachments": {},
   "cell_type": "markdown",
   "metadata": {},
   "source": [
    "\n",
    "### Basico\n",
    "Observação: Estudo em que os elementos analisados não são afetados (pesquisa).\n",
    "Experimentos: condições ou tratamentos são impostas a grupos, para avaliar o resultado.\n",
    "\n",
    "\n",
    "Variaveis:\n",
    "    -Quantitativa - Númericas, sendo continuas, com valores reais e podem assumi qualquer intervalo. Discretas, números fixos, inteiro e num intervalo\n",
    "    -Qualitativas - Categóricas, sendo Nominais, ou seja SEM hierarquia, ou ordinais, categorias COM hierarquia.\n",
    "\n",
    "\n",
    "\n"
   ]
  },
  {
   "attachments": {},
   "cell_type": "markdown",
   "metadata": {},
   "source": [
    "### EDA - Analise exploratoria de dados.\n",
    "Busca obter informações ocultas sobre os dados, tais como variações anomalias, distribuição, tendências, padrões, relações.\n"
   ]
  },
  {
   "attachments": {},
   "cell_type": "markdown",
   "metadata": {},
   "source": [
    "### Amostra\n",
    "\n",
    "Parte de uma população, selecionada uma tecnica que pode selecionar toda a população de maneira igual, seja fazer uma amostra de toda a população.\n",
    "Uma amostra feita corretamente, deve representar as mesmas caracteristicas da população de onde foi retirada.\n",
    "\n",
    "**Enviesamento**: Quando se subestima ou superestima o parâmetro da população. As causas podem ser pesquisas mal feitas, com pessoas proximas e também sem o uso de maccanismo de seleção aleatório.\n",
    "\n",
    "-> Toda mostra tem uma margem de erro e confiança\n",
    "\n",
    "**Principais tipos**\n",
    "1. Amostras Aleatórias Simples: Um determinado número de elementos é retirado da população de forma aleatória..\n",
    "    - Com reposição: A pessoa pode ser chamada novamente.\n",
    "    - Sem reposição: Não pode ser chamada novamente.\n",
    "\n",
    "\n",
    "2. Estratificada: As vezes as populações estão dividadas nos chamados estratos. Ou seja uma amostra representativas de acordo com cada grupo.\n",
    "\n",
    "3. Amostra sistemática: A cada N elementos um novo é escolhido.\n",
    "\n",
    "Estocástico: Mesma entrada, diferente saida.\n",
    "Determinístico: Mesma entrada, sempre mesma saida.\n",
    "\n",
    "\n",
    "**Distribuição e Tabela de Probabilidade**\n",
    "1. Normal: Normalmente a média fica ao centro, e existe uma simetria ao entorno dela.\n",
    "    1. 1 Normal Padrão (Z) : media zero e desvio padrão 1, mostra o numero de desvios padrões que o valor esta acima ou abaixo da média. Z = (X - u)/DesvioPadrao, sendo X a distribuição e u a média.\n",
    "    **QQPLOT ou Shapiro-Wilk:** Servem para verificar se os dados estão normalmente distribuídos, no shapiro o valor de P deve ser maior que 0,05.\n",
    "\n",
    "**Teorema Central Do Limite**\n",
    "1. Conforme o tamanho da amostra aumenta, a distrubuição das médias amostrais se aproxima cada vez mais da distribuição normal.\n",
    "\n",
    "Estatística paramétrica, requer que os dados estejam em conformidade com alguma distribuição, como por exemplo distribuição normal, e está oferece menos riscos e seus testes mais precisos.\n",
    "Já a estatística não-paramétrica, é quando os dados não estão com conformidade com alguma distribuição, ou não se conhece a distribuição dos mesmos."
   ]
  },
  {
   "cell_type": "markdown",
   "metadata": {},
   "source": []
  },
  {
   "attachments": {},
   "cell_type": "markdown",
   "metadata": {},
   "source": [
    "### Amostragem Simples"
   ]
  },
  {
   "cell_type": "code",
   "execution_count": 3,
   "metadata": {},
   "outputs": [],
   "source": [
    "import pandas as pd\n",
    "import numpy as np"
   ]
  },
  {
   "cell_type": "code",
   "execution_count": 14,
   "metadata": {},
   "outputs": [
    {
     "data": {
      "text/html": [
       "<div>\n",
       "<style scoped>\n",
       "    .dataframe tbody tr th:only-of-type {\n",
       "        vertical-align: middle;\n",
       "    }\n",
       "\n",
       "    .dataframe tbody tr th {\n",
       "        vertical-align: top;\n",
       "    }\n",
       "\n",
       "    .dataframe thead th {\n",
       "        text-align: right;\n",
       "    }\n",
       "</style>\n",
       "<table border=\"1\" class=\"dataframe\">\n",
       "  <thead>\n",
       "    <tr style=\"text-align: right;\">\n",
       "      <th></th>\n",
       "      <th>sepal length</th>\n",
       "      <th>sepal width</th>\n",
       "      <th>petal length</th>\n",
       "      <th>petal width</th>\n",
       "      <th>class</th>\n",
       "    </tr>\n",
       "  </thead>\n",
       "  <tbody>\n",
       "    <tr>\n",
       "      <th>0</th>\n",
       "      <td>5.1</td>\n",
       "      <td>3.5</td>\n",
       "      <td>1.4</td>\n",
       "      <td>0.2</td>\n",
       "      <td>Iris-setosa</td>\n",
       "    </tr>\n",
       "    <tr>\n",
       "      <th>1</th>\n",
       "      <td>4.9</td>\n",
       "      <td>3.0</td>\n",
       "      <td>1.4</td>\n",
       "      <td>0.2</td>\n",
       "      <td>Iris-setosa</td>\n",
       "    </tr>\n",
       "    <tr>\n",
       "      <th>2</th>\n",
       "      <td>4.7</td>\n",
       "      <td>3.2</td>\n",
       "      <td>1.3</td>\n",
       "      <td>0.2</td>\n",
       "      <td>Iris-setosa</td>\n",
       "    </tr>\n",
       "    <tr>\n",
       "      <th>3</th>\n",
       "      <td>4.6</td>\n",
       "      <td>3.1</td>\n",
       "      <td>1.5</td>\n",
       "      <td>0.2</td>\n",
       "      <td>Iris-setosa</td>\n",
       "    </tr>\n",
       "    <tr>\n",
       "      <th>4</th>\n",
       "      <td>5.0</td>\n",
       "      <td>3.6</td>\n",
       "      <td>1.4</td>\n",
       "      <td>0.2</td>\n",
       "      <td>Iris-setosa</td>\n",
       "    </tr>\n",
       "    <tr>\n",
       "      <th>...</th>\n",
       "      <td>...</td>\n",
       "      <td>...</td>\n",
       "      <td>...</td>\n",
       "      <td>...</td>\n",
       "      <td>...</td>\n",
       "    </tr>\n",
       "    <tr>\n",
       "      <th>145</th>\n",
       "      <td>6.7</td>\n",
       "      <td>3.0</td>\n",
       "      <td>5.2</td>\n",
       "      <td>2.3</td>\n",
       "      <td>Iris-virginica</td>\n",
       "    </tr>\n",
       "    <tr>\n",
       "      <th>146</th>\n",
       "      <td>6.3</td>\n",
       "      <td>2.5</td>\n",
       "      <td>5.0</td>\n",
       "      <td>1.9</td>\n",
       "      <td>Iris-virginica</td>\n",
       "    </tr>\n",
       "    <tr>\n",
       "      <th>147</th>\n",
       "      <td>6.5</td>\n",
       "      <td>3.0</td>\n",
       "      <td>5.2</td>\n",
       "      <td>2.0</td>\n",
       "      <td>Iris-virginica</td>\n",
       "    </tr>\n",
       "    <tr>\n",
       "      <th>148</th>\n",
       "      <td>6.2</td>\n",
       "      <td>3.4</td>\n",
       "      <td>5.4</td>\n",
       "      <td>2.3</td>\n",
       "      <td>Iris-virginica</td>\n",
       "    </tr>\n",
       "    <tr>\n",
       "      <th>149</th>\n",
       "      <td>5.9</td>\n",
       "      <td>3.0</td>\n",
       "      <td>5.1</td>\n",
       "      <td>1.8</td>\n",
       "      <td>Iris-virginica</td>\n",
       "    </tr>\n",
       "  </tbody>\n",
       "</table>\n",
       "<p>150 rows × 5 columns</p>\n",
       "</div>"
      ],
      "text/plain": [
       "     sepal length  sepal width  petal length  petal width           class\n",
       "0             5.1          3.5           1.4          0.2     Iris-setosa\n",
       "1             4.9          3.0           1.4          0.2     Iris-setosa\n",
       "2             4.7          3.2           1.3          0.2     Iris-setosa\n",
       "3             4.6          3.1           1.5          0.2     Iris-setosa\n",
       "4             5.0          3.6           1.4          0.2     Iris-setosa\n",
       "..            ...          ...           ...          ...             ...\n",
       "145           6.7          3.0           5.2          2.3  Iris-virginica\n",
       "146           6.3          2.5           5.0          1.9  Iris-virginica\n",
       "147           6.5          3.0           5.2          2.0  Iris-virginica\n",
       "148           6.2          3.4           5.4          2.3  Iris-virginica\n",
       "149           5.9          3.0           5.1          1.8  Iris-virginica\n",
       "\n",
       "[150 rows x 5 columns]"
      ]
     },
     "execution_count": 14,
     "metadata": {},
     "output_type": "execute_result"
    }
   ],
   "source": [
    "base = pd.read_csv(\"E:/Geral/CienciaDeDados/src/16.Prática em Python/dados/iris.csv\")\n",
    "base"
   ]
  },
  {
   "cell_type": "code",
   "execution_count": 89,
   "metadata": {},
   "outputs": [
    {
     "name": "stdout",
     "output_type": "stream",
     "text": [
      "[0 0 0 0 1 0 0 0 1 0 0 1 0 1 0 0 1 0 1 1 1 0 0 1 1 1 0 1 0 0 1 0 0 1 1 0 1\n",
      " 0 0 0 1 0 1 0 0 0 0 0 0 0 1 1 0 0 0 0 0 0 0 0 0 1 0 0 1 0 0 1 0 0 1 0 0 0\n",
      " 0 1 0 1 0 0 1 1 0 0 0 0 0 0 0 0 0 0 1 0 1 1 1 1 1 1 0 0 0 0 0 0 0 0 1 0 0\n",
      " 0 0 0 0 0 0 0 1 0 0 0 0 0 1 1 1 0 1 0 1 1 1 0 0 0 0 0 0 0 0 1 1 0 0 1 1 0\n",
      " 0 1]\n"
     ]
    }
   ],
   "source": [
    "np.random.seed(2345)\n",
    "\n",
    "# Cria uma lista de tamanho 150, contendo elementos de 0 e 1, sendo que a probabilidade de ter 0 é 70% e 1 30%.\n",
    "amostra = np.random.choice(a=[0,1], size= 150, replace= True, p = [0.7,0.3])\n",
    "\n",
    "print(amostra)"
   ]
  },
  {
   "cell_type": "code",
   "execution_count": 34,
   "metadata": {},
   "outputs": [
    {
     "data": {
      "text/plain": [
       "(101, 5)"
      ]
     },
     "execution_count": 34,
     "metadata": {},
     "output_type": "execute_result"
    }
   ],
   "source": [
    "base_final = base.loc[amostra == 0]\n",
    "base_final.shape\n"
   ]
  },
  {
   "cell_type": "code",
   "execution_count": 29,
   "metadata": {},
   "outputs": [
    {
     "data": {
      "text/plain": [
       "(18, 5)"
      ]
     },
     "execution_count": 29,
     "metadata": {},
     "output_type": "execute_result"
    }
   ],
   "source": [
    "base_final2 = base.loc[amostra == 1]\n",
    "base_final2.shape\n"
   ]
  },
  {
   "attachments": {},
   "cell_type": "markdown",
   "metadata": {},
   "source": [
    "### Amostragem Sistemática\n"
   ]
  },
  {
   "cell_type": "code",
   "execution_count": 40,
   "metadata": {},
   "outputs": [],
   "source": [
    "import numpy as np\n",
    "import pandas as pd\n",
    "from math import ceil\n",
    "\n",
    "base = pd.read_csv(\"E:/Geral/CienciaDeDados/src/16.Prática em Python/dados/iris.csv\")\n"
   ]
  },
  {
   "cell_type": "code",
   "execution_count": 39,
   "metadata": {},
   "outputs": [
    {
     "name": "stdout",
     "output_type": "stream",
     "text": [
      "10\n"
     ]
    }
   ],
   "source": [
    "populacao = 150\n",
    "amostra = 15\n",
    "k = ceil(populacao/amostra)\n",
    "print(k)"
   ]
  },
  {
   "cell_type": "code",
   "execution_count": 82,
   "metadata": {},
   "outputs": [
    {
     "name": "stdout",
     "output_type": "stream",
     "text": [
      "[8]\n"
     ]
    }
   ],
   "source": [
    "#Gera um número aleatorio.\n",
    "r = np.random.randint(low = 1, high= k +1, size = 1)\n",
    "print(r)"
   ]
  },
  {
   "cell_type": "code",
   "execution_count": 83,
   "metadata": {},
   "outputs": [
    {
     "name": "stdout",
     "output_type": "stream",
     "text": [
      "[8, 18, 28, 38, 48, 58, 68, 78, 88, 98, 108, 118, 128, 138, 148]\n"
     ]
    }
   ],
   "source": [
    "acumulador = r[0]\n",
    "sorteados = []\n",
    "for i in range(amostra):\n",
    "    sorteados.append(acumulador)\n",
    "    acumulador += k\n",
    "print(sorteados)"
   ]
  },
  {
   "cell_type": "code",
   "execution_count": 88,
   "metadata": {},
   "outputs": [
    {
     "data": {
      "text/html": [
       "<div>\n",
       "<style scoped>\n",
       "    .dataframe tbody tr th:only-of-type {\n",
       "        vertical-align: middle;\n",
       "    }\n",
       "\n",
       "    .dataframe tbody tr th {\n",
       "        vertical-align: top;\n",
       "    }\n",
       "\n",
       "    .dataframe thead th {\n",
       "        text-align: right;\n",
       "    }\n",
       "</style>\n",
       "<table border=\"1\" class=\"dataframe\">\n",
       "  <thead>\n",
       "    <tr style=\"text-align: right;\">\n",
       "      <th></th>\n",
       "      <th>sepal length</th>\n",
       "      <th>sepal width</th>\n",
       "      <th>petal length</th>\n",
       "      <th>petal width</th>\n",
       "      <th>class</th>\n",
       "    </tr>\n",
       "  </thead>\n",
       "  <tbody>\n",
       "    <tr>\n",
       "      <th>8</th>\n",
       "      <td>4.4</td>\n",
       "      <td>2.9</td>\n",
       "      <td>1.4</td>\n",
       "      <td>0.2</td>\n",
       "      <td>Iris-setosa</td>\n",
       "    </tr>\n",
       "    <tr>\n",
       "      <th>18</th>\n",
       "      <td>5.7</td>\n",
       "      <td>3.8</td>\n",
       "      <td>1.7</td>\n",
       "      <td>0.3</td>\n",
       "      <td>Iris-setosa</td>\n",
       "    </tr>\n",
       "    <tr>\n",
       "      <th>28</th>\n",
       "      <td>5.2</td>\n",
       "      <td>3.4</td>\n",
       "      <td>1.4</td>\n",
       "      <td>0.2</td>\n",
       "      <td>Iris-setosa</td>\n",
       "    </tr>\n",
       "    <tr>\n",
       "      <th>38</th>\n",
       "      <td>4.4</td>\n",
       "      <td>3.0</td>\n",
       "      <td>1.3</td>\n",
       "      <td>0.2</td>\n",
       "      <td>Iris-setosa</td>\n",
       "    </tr>\n",
       "    <tr>\n",
       "      <th>48</th>\n",
       "      <td>5.3</td>\n",
       "      <td>3.7</td>\n",
       "      <td>1.5</td>\n",
       "      <td>0.2</td>\n",
       "      <td>Iris-setosa</td>\n",
       "    </tr>\n",
       "    <tr>\n",
       "      <th>58</th>\n",
       "      <td>6.6</td>\n",
       "      <td>2.9</td>\n",
       "      <td>4.6</td>\n",
       "      <td>1.3</td>\n",
       "      <td>Iris-versicolor</td>\n",
       "    </tr>\n",
       "    <tr>\n",
       "      <th>68</th>\n",
       "      <td>6.2</td>\n",
       "      <td>2.2</td>\n",
       "      <td>4.5</td>\n",
       "      <td>1.5</td>\n",
       "      <td>Iris-versicolor</td>\n",
       "    </tr>\n",
       "    <tr>\n",
       "      <th>78</th>\n",
       "      <td>6.0</td>\n",
       "      <td>2.9</td>\n",
       "      <td>4.5</td>\n",
       "      <td>1.5</td>\n",
       "      <td>Iris-versicolor</td>\n",
       "    </tr>\n",
       "    <tr>\n",
       "      <th>88</th>\n",
       "      <td>5.6</td>\n",
       "      <td>3.0</td>\n",
       "      <td>4.1</td>\n",
       "      <td>1.3</td>\n",
       "      <td>Iris-versicolor</td>\n",
       "    </tr>\n",
       "    <tr>\n",
       "      <th>98</th>\n",
       "      <td>5.1</td>\n",
       "      <td>2.5</td>\n",
       "      <td>3.0</td>\n",
       "      <td>1.1</td>\n",
       "      <td>Iris-versicolor</td>\n",
       "    </tr>\n",
       "    <tr>\n",
       "      <th>108</th>\n",
       "      <td>6.7</td>\n",
       "      <td>2.5</td>\n",
       "      <td>5.8</td>\n",
       "      <td>1.8</td>\n",
       "      <td>Iris-virginica</td>\n",
       "    </tr>\n",
       "    <tr>\n",
       "      <th>118</th>\n",
       "      <td>7.7</td>\n",
       "      <td>2.6</td>\n",
       "      <td>6.9</td>\n",
       "      <td>2.3</td>\n",
       "      <td>Iris-virginica</td>\n",
       "    </tr>\n",
       "    <tr>\n",
       "      <th>128</th>\n",
       "      <td>6.4</td>\n",
       "      <td>2.8</td>\n",
       "      <td>5.6</td>\n",
       "      <td>2.1</td>\n",
       "      <td>Iris-virginica</td>\n",
       "    </tr>\n",
       "    <tr>\n",
       "      <th>138</th>\n",
       "      <td>6.0</td>\n",
       "      <td>3.0</td>\n",
       "      <td>4.8</td>\n",
       "      <td>1.8</td>\n",
       "      <td>Iris-virginica</td>\n",
       "    </tr>\n",
       "    <tr>\n",
       "      <th>148</th>\n",
       "      <td>6.2</td>\n",
       "      <td>3.4</td>\n",
       "      <td>5.4</td>\n",
       "      <td>2.3</td>\n",
       "      <td>Iris-virginica</td>\n",
       "    </tr>\n",
       "  </tbody>\n",
       "</table>\n",
       "</div>"
      ],
      "text/plain": [
       "     sepal length  sepal width  petal length  petal width            class\n",
       "8             4.4          2.9           1.4          0.2      Iris-setosa\n",
       "18            5.7          3.8           1.7          0.3      Iris-setosa\n",
       "28            5.2          3.4           1.4          0.2      Iris-setosa\n",
       "38            4.4          3.0           1.3          0.2      Iris-setosa\n",
       "48            5.3          3.7           1.5          0.2      Iris-setosa\n",
       "58            6.6          2.9           4.6          1.3  Iris-versicolor\n",
       "68            6.2          2.2           4.5          1.5  Iris-versicolor\n",
       "78            6.0          2.9           4.5          1.5  Iris-versicolor\n",
       "88            5.6          3.0           4.1          1.3  Iris-versicolor\n",
       "98            5.1          2.5           3.0          1.1  Iris-versicolor\n",
       "108           6.7          2.5           5.8          1.8   Iris-virginica\n",
       "118           7.7          2.6           6.9          2.3   Iris-virginica\n",
       "128           6.4          2.8           5.6          2.1   Iris-virginica\n",
       "138           6.0          3.0           4.8          1.8   Iris-virginica\n",
       "148           6.2          3.4           5.4          2.3   Iris-virginica"
      ]
     },
     "execution_count": 88,
     "metadata": {},
     "output_type": "execute_result"
    }
   ],
   "source": [
    "base_final = base.loc[sorteados]\n",
    "base_final"
   ]
  },
  {
   "attachments": {},
   "cell_type": "markdown",
   "metadata": {},
   "source": [
    "### Amostragem Estratificada"
   ]
  },
  {
   "cell_type": "code",
   "execution_count": 98,
   "metadata": {},
   "outputs": [
    {
     "data": {
      "text/plain": [
       "class\n",
       "Iris-versicolor    25\n",
       "Iris-virginica     25\n",
       "Iris-setosa        25\n",
       "Name: count, dtype: int64"
      ]
     },
     "execution_count": 98,
     "metadata": {},
     "output_type": "execute_result"
    }
   ],
   "source": [
    "import pandas as pd\n",
    "from sklearn.model_selection import train_test_split\n",
    "\n",
    "iris = pd.read_csv(\"E:/Geral/CienciaDeDados/src/16.Prática em Python/dados/iris.csv\")\n",
    "iris['class'].value_counts()\n",
    "\n",
    "x, _,y,_ = train_test_split( iris.iloc[:,0:4], iris.iloc[:,4], test_size= 0.5, stratify= iris.iloc[:,4] )\n",
    "\n",
    "y.value_counts()"
   ]
  },
  {
   "cell_type": "code",
   "execution_count": 103,
   "metadata": {},
   "outputs": [
    {
     "data": {
      "text/plain": [
       "education\n",
       "6-11yrs    48\n",
       "12+ yrs    46\n",
       "0-5yrs      5\n",
       "Name: count, dtype: int64"
      ]
     },
     "execution_count": 103,
     "metadata": {},
     "output_type": "execute_result"
    }
   ],
   "source": [
    "infert = pd.read_csv(\"E:/Geral/CienciaDeDados/src/16.Prática em Python/dados/infert.csv\")\n",
    "infert['education'].value_counts()\n",
    "\n",
    "x1, _,y1,_ = train_test_split( infert.iloc[:,2:9], infert.iloc[:,1], test_size= 0.6, stratify= infert.iloc[:,1] )\n",
    "\n",
    "y1.value_counts()"
   ]
  },
  {
   "cell_type": "markdown",
   "metadata": {},
   "source": [
    "### Medidas de Centralidade e Variabilidade"
   ]
  },
  {
   "cell_type": "code",
   "execution_count": 106,
   "metadata": {},
   "outputs": [
    {
     "data": {
      "text/plain": [
       "DescribeResult(nobs=9, minmax=(12000, 800000), mean=181111.11111111112, variance=65182111111.11111, skewness=1.758635899846188, kurtosis=1.9572075427527729)"
      ]
     },
     "execution_count": 106,
     "metadata": {},
     "output_type": "execute_result"
    }
   ],
   "source": [
    "import numpy as np\n",
    "from scipy import stats\n",
    "jogadores = [40000, 18000, 12000, 250000, 30000, 140000, 300000, 40000, 800000]\n",
    "\n",
    "#Media\n",
    "np.mean(jogadores)\n",
    "\n",
    "#Mediana\n",
    "np.median(jogadores)\n",
    "\n",
    "#Quartis\n",
    "quartis = np.quantile(jogadores,[0,0.25,0.5,0.75,1])\n",
    "\n",
    "#Desvio padrão\n",
    "np.std(jogadores,ddof=1)\n",
    "\n",
    "#Detalhado -> Traz diversos resultados\n",
    "stats.describe(jogadores)\n"
   ]
  },
  {
   "attachments": {},
   "cell_type": "markdown",
   "metadata": {},
   "source": [
    "### Distribuição Normal"
   ]
  },
  {
   "cell_type": "code",
   "execution_count": null,
   "metadata": {},
   "outputs": [],
   "source": [
    "from scipy.stats import norm\n",
    "\n",
    "# Considerando uma cesta com pesos, no qual a media é 8 e o desvio padrao 2\n",
    "\n",
    "#Tirar menor que 6\n",
    "norm.cdf(6,8,2)\n",
    "\n",
    "#Tirar maior que 6\n",
    "1 - norm.cdf(6,8,2)\n",
    "\n",
    "#Tirar um menor que 6 e maior que 10\n",
    "norm.cdf(6,8,2) + norm.Sf(10,8,2)\n",
    "\n",
    "#Tirar um maior que 8 e menor que 10\n",
    "norm.cdf(10,8,2) - norm.Sf(8,8,2)"
   ]
  },
  {
   "attachments": {},
   "cell_type": "markdown",
   "metadata": {},
   "source": [
    "### Testes de Normalidade"
   ]
  },
  {
   "cell_type": "code",
   "execution_count": 112,
   "metadata": {},
   "outputs": [],
   "source": [
    "from scipy import stats\n",
    "from scipy.stats import norm, skewnorm\n",
    "import matplotlib.pyplot as plt"
   ]
  },
  {
   "cell_type": "code",
   "execution_count": 121,
   "metadata": {},
   "outputs": [],
   "source": [
    "#Gera dados em uma distribuição normal\n",
    "dados = norm.rvs(size = 1000)\n",
    "\n",
    "#Gera dados não normalmemnte distribuido\n",
    "#dados = skewnorm.rvs(4, size = 1000)\n"
   ]
  },
  {
   "cell_type": "code",
   "execution_count": 122,
   "metadata": {},
   "outputs": [
    {
     "data": {
      "text/plain": [
       "Text(0.5, 1.0, 'Dados')"
      ]
     },
     "execution_count": 122,
     "metadata": {},
     "output_type": "execute_result"
    },
    {
     "data": {
      "image/png": "[encoded data removed]",
      "text/plain": [
       "<Figure size 640x480 with 1 Axes>"
      ]
     },
     "metadata": {},
     "output_type": "display_data"
    }
   ],
   "source": [
    "#Gera histograma, bins é a quatidade de barras\n",
    "\n",
    "plt.hist(dados,bins=20)\n",
    "plt.title('Dados')"
   ]
  },
  {
   "cell_type": "code",
   "execution_count": 123,
   "metadata": {},
   "outputs": [
    {
     "data": {
      "image/png": "[encoded data removed]",
      "text/plain": [
       "<Figure size 640x480 with 1 Axes>"
      ]
     },
     "metadata": {},
     "output_type": "display_data"
    }
   ],
   "source": [
    "#Geração do QQPlot\n",
    "fig, ax = plt.subplots()\n",
    "stats.probplot(dados,fit=True, plot=ax)\n",
    "plt.show()"
   ]
  },
  {
   "cell_type": "code",
   "execution_count": 124,
   "metadata": {},
   "outputs": [
    {
     "data": {
      "text/plain": [
       "ShapiroResult(statistic=0.9621360898017883, pvalue=1.9544486929340193e-15)"
      ]
     },
     "execution_count": 124,
     "metadata": {},
     "output_type": "execute_result"
    }
   ],
   "source": [
    "stats.shapiro(dados)"
   ]
  },
  {
   "attachments": {},
   "cell_type": "markdown",
   "metadata": {},
   "source": [
    "# Estatistica 2"
   ]
  },
  {
   "attachments": {},
   "cell_type": "markdown",
   "metadata": {},
   "source": [
    "**Intervalo de Confiança:**   Faixa de valores plausíveis que tem uma alta probabilidade de conter o verdadeiro valor do parâmetro. Basicamente a margem de erro.\n",
    "\n",
    "\n",
    "**Testes de Hipotese:** Permitem determinar se as diferenças entre as amostras são reais ou se são simplesmente devido ao acaso. -> Shapiro- Wilk\n",
    "\n",
    "**T de Student:** Utilizada quando se a mostra é pequena, é basicamente um tipo de distribuição.\n",
    "    \n",
    "1. Grau de liberdade: n - 1\n",
    "2. Para calcular o T:\n",
    "\n",
    "A fórmula para calcular a estatística t é:\n",
    "t = (x̄ - μ) / (s / sqrt(n))\n",
    "Onde:\n",
    "x̄ = média amostral (nessa questão, é 75)\n",
    "μ = média populacional (nessa questão, é 80)\n",
    "s = desvio padrão da amostra (nessa questão, é 10)\n",
    "n = tamanho da amostra (nessa questão, é 9)\n",
    "\n",
    "**Teste T de Student:** É  um teste estatístico utilizado para determinar se há diferença significativa entre as médias de duas amostras independentes ou entre a média de uma amostra e um valor conhecido.\n",
    "Pré-requisitos:\n",
    "1. Duas populações independentes.\n",
    "2. Variável dependente normalmente distribuída.\n",
    "3. Variância entre as duas variáveis é aproximada.\n",
    "\n",
    "**Distribuição Binominal:** A distribuição binomial é uma distribuição de probabilidade discreta que descreve o número de sucessos em um certo número de tentativas independentes e idênticas, assumindo que cada tentativa tem a mesma probabilidade de sucesso. (Basicamente a ocorrencia de resultados discretos, de sucesso ou fracasso).\n",
    "\n",
    "Pré requisitos para ser possivel essa distribuição:\n",
    "1. Número Fixo de Experimentos?\n",
    "2. Cada experimento pode ter 2 resultados apenas: Sucesso ou fracasso?\n",
    "3. A probabilidade de sucesso deve ser a mesma em cada experimento?\n",
    "4. Os experimentos são independentes.\n",
    "\n",
    "Sendo \"X\" ou \"R\", O numero de tentativas (Onde quer chegar), \"P\" a probabilidade, e \"N\" o numero total de experimentos.\n",
    "\n",
    "**Distribuição De Poisson:** Mede a probabilidade da ocorrência de enventos em intervalo de tempo, em vez de um certo número de experimentos. Lambda = numéro médio de eventos que ocorre por intervalo, e \"X\" o número de eventos que estão sendo calculados, Número de Euler (e) = 2,71828.\n",
    "Para calcular por exemplo <, é necessario fazer todas as outras de forma independente e somar no final. Para >, basta fazer (1 - <=X).\n",
    "\n",
    "**Qui quadrado:** É um teste estatístico que compara a frequência observada de um evento com a frequência esperada de um modelo teórico. Ele é usado para determinar se há uma relação significativa entre duas variáveis categóricas. \n",
    "\n",
    "-No código sempre vai retornar um valor p-value, e deve-se comparar com 0,05 (Normalmente).\n",
    "\n",
    "**ANOVA:**  É um teste estatístico utilizado para comparar a média de três ou mais grupos independentes. O objetivo é determinar se há diferenças estatisticamente significativas entre as médias dos grupos. A ANOVA usa a variância para avaliar se as diferenças observadas entre as médias dos grupos são maiores do que as diferenças esperadas devido ao acaso.\n",
    "\n",
    "**Teste de Turkey:**  É um procedimento estatístico utilizado para determinar quais grupos têm médias significativamente diferentes uns dos outros após a realização da ANOVA. O teste de Tukey compara todas as combinações de pares de médias, fornecendo um intervalo de confiança para cada diferença. Se o intervalo de confiança não incluir zero, isso indica que as médias são significativamente diferentes umas das outras.\n",
    "\n",
    "**Métricas de Erros:** \n",
    "\n",
    "1. Mean Erro (ME): Média da diferença entre realizado e previsto. \n",
    "2. Mean Absolute Error (MAE): A diiferença absolura, ou seja, o modulo da diferença.\n",
    "3. Root Mean Squared Error (RMSE): O desvio padrão da amostra da diferença entre o previsto e o teste.\n",
    "4. Mean Percentage Error (MPE): Diferença de percentual de erro.\n",
    "5. Mean Absolute Percentage Error (MAPE): Diferença absoluta do percentual de erro.\n"
   ]
  },
  {
   "attachments": {},
   "cell_type": "markdown",
   "metadata": {},
   "source": [
    "## Pratico\n"
   ]
  },
  {
   "attachments": {},
   "cell_type": "markdown",
   "metadata": {},
   "source": [
    "### Distribuição T de Student\n"
   ]
  },
  {
   "cell_type": "code",
   "execution_count": 3,
   "metadata": {},
   "outputs": [
    {
     "data": {
      "text/plain": [
       "0.08600164597595565"
      ]
     },
     "execution_count": 3,
     "metadata": {},
     "output_type": "execute_result"
    }
   ],
   "source": [
    "from scipy.stats import t\n",
    "\n",
    "# Supondo que a média de salário dos cientistas de dados = R$ 75.00 por hora. Amostra com 9 funcionarios e desvio padrao = 10\n",
    "# Lembrando que o T precisa calcular!\n",
    "\n",
    "# Qual a prob. do salario ser MENOR que 80 por hora?\n",
    "# Usa cdf quando for olha a esquerda da tabela\n",
    "t.cdf(1.5,8)\n",
    "\n",
    "# Qual a prob. do salario ser MAIOR que 80 por hora?\n",
    "# Usa cdf quando for olha a direita da tabela\n",
    "t.sf(1.5,8)\n"
   ]
  },
  {
   "attachments": {},
   "cell_type": "markdown",
   "metadata": {},
   "source": [
    "### Distribuição de Poisson"
   ]
  },
  {
   "cell_type": "code",
   "execution_count": 10,
   "metadata": {},
   "outputs": [
    {
     "data": {
      "text/plain": [
       "0.14287653950145296"
      ]
     },
     "execution_count": 10,
     "metadata": {},
     "output_type": "execute_result"
    }
   ],
   "source": [
    "from scipy.stats import poisson\n",
    "\n",
    "# Media de acidentes de carro é 2 por dia\n",
    "\n",
    "# Probabilidade de ocorrerem 3 acidentes no dia?\n",
    "poisson.pmf(3,2) # PMF é calculo pontual ou seja, =3\n",
    "\n",
    "# Probabilidade de ocorrerem 3 ou menos acidentes no dia?\n",
    "poisson.cdf(3,2) # CDF é a esquerdam ou seja, =< 3\n",
    "\n",
    "# Probabilidade de ocorrerem mais que 3 acidentes no dia?\n",
    "poisson.sf(3,2) # SF é a direita ou seja, > 3\n",
    "\n"
   ]
  },
  {
   "attachments": {},
   "cell_type": "markdown",
   "metadata": {},
   "source": [
    "### Distribuição Binominal"
   ]
  },
  {
   "cell_type": "code",
   "execution_count": 5,
   "metadata": {},
   "outputs": [
    {
     "name": "stdout",
     "output_type": "stream",
     "text": [
      "prob = 0.3124999999999998\n"
     ]
    }
   ],
   "source": [
    "from scipy.stats import binom\n",
    "\n",
    "#Jogar uma moeda 5 vezes, qual a probabilidade de dar cara 3 vezes\n",
    "\n",
    "prob = binom.pmf(3,5,0.5) #Sendo pmf pontual, e os parametros são qtd de eventos, qtd de experimentos e probabilidade\n",
    "print(f\"prob = {prob}\") \n",
    "\n",
    "# Passar por 4 sinais de 4 tempos, qual a probabilidade de pegar sinal verde (Tem que calcular para nenhum aberto até ter todos abertos)\n",
    "prob = binom.pmf(0,4,0.25) + binom.pmf(1,4,0.25) + binom.pmf(2,4,0.25) + binom.pmf(3,4,0.25) + binom.pmf(4,4,0.25) \n",
    "print(f\"prob = {prob}\") \n",
    "\n",
    "#Probabilidade acumulativa\n",
    "binom.cdf(3,4,0.25) #Ou seja pegar 3 farols aberto\n",
    "print(f\"prob = {prob}\") "
   ]
  },
  {
   "attachments": {},
   "cell_type": "markdown",
   "metadata": {},
   "source": [
    "### Qui Quadrado"
   ]
  },
  {
   "cell_type": "code",
   "execution_count": 9,
   "metadata": {},
   "outputs": [
    {
     "name": "stdout",
     "output_type": "stream",
     "text": [
      "[[19  6]\n",
      " [43 32]]\n",
      "[[22  3]\n",
      " [43 32]]\n"
     ]
    },
    {
     "data": {
      "text/plain": [
       "Chi2ContingencyResult(statistic=6.461538461538461, pvalue=0.011023416388221425, dof=1, expected_freq=array([[16.25,  8.75],\n",
       "       [48.75, 26.25]]))"
      ]
     },
     "execution_count": 9,
     "metadata": {},
     "output_type": "execute_result"
    }
   ],
   "source": [
    "import numpy as np\n",
    "from scipy.stats import chi2_contingency\n",
    "\n",
    "\n",
    "#Basciamente, homes que assistem e não assistem novelas, e mulheres  que assistem e não assistem novelas.\n",
    "novela = np.array([[19,6],[43,32]])\n",
    "print(novela)\n",
    "\n",
    "#Valor do p se for maior que 0,05 siginifica que não ha evidencias de diferença significativa.\n",
    "chi2_contingency(novela) # o segundo valor é o pvalue\n",
    "\n",
    "# Aqui é possivel ver a diferença, que existe uma grande diferença\n",
    "#Basciamente, homes que assistem e não assistem novelas, e mulheres  que assistem e não assistem novelas.\n",
    "novela = np.array([[22,3],[43,32]])\n",
    "print(novela)\n",
    "\n",
    "#Valor do p se for maior que 0,05 siginifica que não ha evidencias de diferença significativa.\n",
    "chi2_contingency(novela) # o segundo valor é o pvalue"
   ]
  },
  {
   "attachments": {},
   "cell_type": "markdown",
   "metadata": {},
   "source": [
    "### Anova"
   ]
  },
  {
   "cell_type": "code",
   "execution_count": 17,
   "metadata": {},
   "outputs": [
    {
     "data": {
      "text/html": [
       "<div>\n",
       "<style scoped>\n",
       "    .dataframe tbody tr th:only-of-type {\n",
       "        vertical-align: middle;\n",
       "    }\n",
       "\n",
       "    .dataframe tbody tr th {\n",
       "        vertical-align: top;\n",
       "    }\n",
       "\n",
       "    .dataframe thead th {\n",
       "        text-align: right;\n",
       "    }\n",
       "</style>\n",
       "<table border=\"1\" class=\"dataframe\">\n",
       "  <thead>\n",
       "    <tr style=\"text-align: right;\">\n",
       "      <th></th>\n",
       "      <th>Sexo</th>\n",
       "      <th>Remedio</th>\n",
       "      <th>Horas</th>\n",
       "    </tr>\n",
       "  </thead>\n",
       "  <tbody>\n",
       "    <tr>\n",
       "      <th>0</th>\n",
       "      <td>F</td>\n",
       "      <td>A</td>\n",
       "      <td>5</td>\n",
       "    </tr>\n",
       "    <tr>\n",
       "      <th>1</th>\n",
       "      <td>F</td>\n",
       "      <td>A</td>\n",
       "      <td>10</td>\n",
       "    </tr>\n",
       "    <tr>\n",
       "      <th>2</th>\n",
       "      <td>F</td>\n",
       "      <td>A</td>\n",
       "      <td>7</td>\n",
       "    </tr>\n",
       "    <tr>\n",
       "      <th>3</th>\n",
       "      <td>F</td>\n",
       "      <td>A</td>\n",
       "      <td>7</td>\n",
       "    </tr>\n",
       "    <tr>\n",
       "      <th>4</th>\n",
       "      <td>M</td>\n",
       "      <td>A</td>\n",
       "      <td>7</td>\n",
       "    </tr>\n",
       "    <tr>\n",
       "      <th>5</th>\n",
       "      <td>M</td>\n",
       "      <td>A</td>\n",
       "      <td>6</td>\n",
       "    </tr>\n",
       "    <tr>\n",
       "      <th>6</th>\n",
       "      <td>M</td>\n",
       "      <td>A</td>\n",
       "      <td>9</td>\n",
       "    </tr>\n",
       "    <tr>\n",
       "      <th>7</th>\n",
       "      <td>M</td>\n",
       "      <td>A</td>\n",
       "      <td>9</td>\n",
       "    </tr>\n",
       "    <tr>\n",
       "      <th>8</th>\n",
       "      <td>F</td>\n",
       "      <td>B</td>\n",
       "      <td>5</td>\n",
       "    </tr>\n",
       "    <tr>\n",
       "      <th>9</th>\n",
       "      <td>F</td>\n",
       "      <td>B</td>\n",
       "      <td>5</td>\n",
       "    </tr>\n",
       "    <tr>\n",
       "      <th>10</th>\n",
       "      <td>F</td>\n",
       "      <td>B</td>\n",
       "      <td>5</td>\n",
       "    </tr>\n",
       "    <tr>\n",
       "      <th>11</th>\n",
       "      <td>F</td>\n",
       "      <td>B</td>\n",
       "      <td>8</td>\n",
       "    </tr>\n",
       "    <tr>\n",
       "      <th>12</th>\n",
       "      <td>M</td>\n",
       "      <td>B</td>\n",
       "      <td>7</td>\n",
       "    </tr>\n",
       "    <tr>\n",
       "      <th>13</th>\n",
       "      <td>M</td>\n",
       "      <td>B</td>\n",
       "      <td>8</td>\n",
       "    </tr>\n",
       "    <tr>\n",
       "      <th>14</th>\n",
       "      <td>M</td>\n",
       "      <td>B</td>\n",
       "      <td>10</td>\n",
       "    </tr>\n",
       "    <tr>\n",
       "      <th>15</th>\n",
       "      <td>M</td>\n",
       "      <td>B</td>\n",
       "      <td>7</td>\n",
       "    </tr>\n",
       "    <tr>\n",
       "      <th>16</th>\n",
       "      <td>F</td>\n",
       "      <td>C</td>\n",
       "      <td>10</td>\n",
       "    </tr>\n",
       "    <tr>\n",
       "      <th>17</th>\n",
       "      <td>F</td>\n",
       "      <td>C</td>\n",
       "      <td>10</td>\n",
       "    </tr>\n",
       "    <tr>\n",
       "      <th>18</th>\n",
       "      <td>F</td>\n",
       "      <td>C</td>\n",
       "      <td>6</td>\n",
       "    </tr>\n",
       "    <tr>\n",
       "      <th>19</th>\n",
       "      <td>F</td>\n",
       "      <td>C</td>\n",
       "      <td>6</td>\n",
       "    </tr>\n",
       "    <tr>\n",
       "      <th>20</th>\n",
       "      <td>M</td>\n",
       "      <td>C</td>\n",
       "      <td>10</td>\n",
       "    </tr>\n",
       "    <tr>\n",
       "      <th>21</th>\n",
       "      <td>M</td>\n",
       "      <td>C</td>\n",
       "      <td>6</td>\n",
       "    </tr>\n",
       "    <tr>\n",
       "      <th>22</th>\n",
       "      <td>M</td>\n",
       "      <td>C</td>\n",
       "      <td>10</td>\n",
       "    </tr>\n",
       "    <tr>\n",
       "      <th>23</th>\n",
       "      <td>M</td>\n",
       "      <td>C</td>\n",
       "      <td>5</td>\n",
       "    </tr>\n",
       "  </tbody>\n",
       "</table>\n",
       "</div>"
      ],
      "text/plain": [
       "   Sexo Remedio  Horas\n",
       "0     F       A      5\n",
       "1     F       A     10\n",
       "2     F       A      7\n",
       "3     F       A      7\n",
       "4     M       A      7\n",
       "5     M       A      6\n",
       "6     M       A      9\n",
       "7     M       A      9\n",
       "8     F       B      5\n",
       "9     F       B      5\n",
       "10    F       B      5\n",
       "11    F       B      8\n",
       "12    M       B      7\n",
       "13    M       B      8\n",
       "14    M       B     10\n",
       "15    M       B      7\n",
       "16    F       C     10\n",
       "17    F       C     10\n",
       "18    F       C      6\n",
       "19    F       C      6\n",
       "20    M       C     10\n",
       "21    M       C      6\n",
       "22    M       C     10\n",
       "23    M       C      5"
      ]
     },
     "execution_count": 17,
     "metadata": {},
     "output_type": "execute_result"
    }
   ],
   "source": [
    "import pandas as pd\n",
    "from scipy import stats\n",
    "import statsmodels.api as sm\n",
    "from statsmodels.formula.api import ols\n",
    "from statsmodels.stats.multicomp import MultiComparison\n",
    "\n",
    "tratamento = pd.read_csv('E:/Geral/CienciaDeDados/src/19.Prática em Python/dados/anova.csv', sep=';')\n",
    "tratamento\n",
    "\n"
   ]
  },
  {
   "cell_type": "code",
   "execution_count": 16,
   "metadata": {},
   "outputs": [
    {
     "data": {
      "text/plain": [
       "<Axes: title={'center': 'Horas'}, xlabel='[Remedio]'>"
      ]
     },
     "execution_count": 16,
     "metadata": {},
     "output_type": "execute_result"
    },
    {
     "data": {
      "image/png": "[encoded data removed]",
      "text/plain": [
       "<Figure size 640x480 with 1 Axes>"
      ]
     },
     "metadata": {},
     "output_type": "display_data"
    }
   ],
   "source": [
    "\n",
    "tratamento.boxplot(by = \"Remedio\")"
   ]
  },
  {
   "cell_type": "code",
   "execution_count": 19,
   "metadata": {},
   "outputs": [
    {
     "data": {
      "text/html": [
       "<div>\n",
       "<style scoped>\n",
       "    .dataframe tbody tr th:only-of-type {\n",
       "        vertical-align: middle;\n",
       "    }\n",
       "\n",
       "    .dataframe tbody tr th {\n",
       "        vertical-align: top;\n",
       "    }\n",
       "\n",
       "    .dataframe thead th {\n",
       "        text-align: right;\n",
       "    }\n",
       "</style>\n",
       "<table border=\"1\" class=\"dataframe\">\n",
       "  <thead>\n",
       "    <tr style=\"text-align: right;\">\n",
       "      <th></th>\n",
       "      <th>df</th>\n",
       "      <th>sum_sq</th>\n",
       "      <th>mean_sq</th>\n",
       "      <th>F</th>\n",
       "      <th>PR(&gt;F)</th>\n",
       "    </tr>\n",
       "  </thead>\n",
       "  <tbody>\n",
       "    <tr>\n",
       "      <th>Remedio</th>\n",
       "      <td>2.0</td>\n",
       "      <td>4.083333</td>\n",
       "      <td>2.041667</td>\n",
       "      <td>0.537618</td>\n",
       "      <td>0.591966</td>\n",
       "    </tr>\n",
       "    <tr>\n",
       "      <th>Residual</th>\n",
       "      <td>21.0</td>\n",
       "      <td>79.750000</td>\n",
       "      <td>3.797619</td>\n",
       "      <td>NaN</td>\n",
       "      <td>NaN</td>\n",
       "    </tr>\n",
       "  </tbody>\n",
       "</table>\n",
       "</div>"
      ],
      "text/plain": [
       "            df     sum_sq   mean_sq         F    PR(>F)\n",
       "Remedio    2.0   4.083333  2.041667  0.537618  0.591966\n",
       "Residual  21.0  79.750000  3.797619       NaN       NaN"
      ]
     },
     "execution_count": 19,
     "metadata": {},
     "output_type": "execute_result"
    }
   ],
   "source": [
    "modelo1 = ols('Horas ~ Remedio', data=tratamento).fit()\n",
    "resultado = sm.stats.anova_lm(modelo1)\n",
    "resultado"
   ]
  },
  {
   "cell_type": "code",
   "execution_count": 20,
   "metadata": {},
   "outputs": [
    {
     "data": {
      "text/html": [
       "<div>\n",
       "<style scoped>\n",
       "    .dataframe tbody tr th:only-of-type {\n",
       "        vertical-align: middle;\n",
       "    }\n",
       "\n",
       "    .dataframe tbody tr th {\n",
       "        vertical-align: top;\n",
       "    }\n",
       "\n",
       "    .dataframe thead th {\n",
       "        text-align: right;\n",
       "    }\n",
       "</style>\n",
       "<table border=\"1\" class=\"dataframe\">\n",
       "  <thead>\n",
       "    <tr style=\"text-align: right;\">\n",
       "      <th></th>\n",
       "      <th>df</th>\n",
       "      <th>sum_sq</th>\n",
       "      <th>mean_sq</th>\n",
       "      <th>F</th>\n",
       "      <th>PR(&gt;F)</th>\n",
       "    </tr>\n",
       "  </thead>\n",
       "  <tbody>\n",
       "    <tr>\n",
       "      <th>Remedio</th>\n",
       "      <td>2.0</td>\n",
       "      <td>4.083333</td>\n",
       "      <td>2.041667</td>\n",
       "      <td>0.537618</td>\n",
       "      <td>0.591966</td>\n",
       "    </tr>\n",
       "    <tr>\n",
       "      <th>Residual</th>\n",
       "      <td>21.0</td>\n",
       "      <td>79.750000</td>\n",
       "      <td>3.797619</td>\n",
       "      <td>NaN</td>\n",
       "      <td>NaN</td>\n",
       "    </tr>\n",
       "  </tbody>\n",
       "</table>\n",
       "</div>"
      ],
      "text/plain": [
       "            df     sum_sq   mean_sq         F    PR(>F)\n",
       "Remedio    2.0   4.083333  2.041667  0.537618  0.591966\n",
       "Residual  21.0  79.750000  3.797619       NaN       NaN"
      ]
     },
     "execution_count": 20,
     "metadata": {},
     "output_type": "execute_result"
    }
   ],
   "source": [
    "modelo2 = ols('Horas ~ Remedio * Sexo', data=tratamento).fit()\n",
    "resultado2 = sm.stats.anova_lm(modelo1)\n",
    "resultado2"
   ]
  },
  {
   "cell_type": "code",
   "execution_count": 21,
   "metadata": {},
   "outputs": [
    {
     "name": "stdout",
     "output_type": "stream",
     "text": [
      "Multiple Comparison of Means - Tukey HSD, FWER=0.05\n",
      "=================================================\n",
      "group1 group2 meandiff p-adj  lower  upper reject\n",
      "-------------------------------------------------\n",
      "     A      B   -0.625 0.7991 -3.081 1.831  False\n",
      "     A      C    0.375 0.9219 -2.081 2.831  False\n",
      "     B      C      1.0 0.5689 -1.456 3.456  False\n",
      "-------------------------------------------------\n"
     ]
    }
   ],
   "source": [
    "mc = MultiComparison(tratamento['Horas'], tratamento['Remedio'])\n",
    "resultado_teste = mc.tukeyhsd()\n",
    "print(resultado_teste)"
   ]
  }
 ],
 "metadata": {
  "kernelspec": {
   "display_name": "Python 3",
   "language": "python",
   "name": "python3"
  },
  "language_info": {
   "codemirror_mode": {
    "name": "ipython",
    "version": 3
   },
   "file_extension": ".py",
   "mimetype": "text/x-python",
   "name": "python",
   "nbconvert_exporter": "python",
   "pygments_lexer": "ipython3",
   "version": "3.11.2"
  },
  "orig_nbformat": 4
 },
 "nbformat": 4,
 "nbformat_minor": 2
}
